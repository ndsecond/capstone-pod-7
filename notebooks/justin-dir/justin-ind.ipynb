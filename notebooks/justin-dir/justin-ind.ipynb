{
 "cells": [
  {
   "cell_type": "markdown",
   "metadata": {},
   "source": [
    "# Pair Programming- Justin and Nuri\n",
    "#### Trying to find correlation between month and worldwide Gross\n",
    "\n",
    "##### Import statements"
   ]
  },
  {
   "cell_type": "code",
   "execution_count": 1,
   "metadata": {},
   "outputs": [],
   "source": [
    "import pandas as pd\n",
    "import numpy as np\n",
    "import matplotlib.pyplot as plt\n",
    "import seaborn as sns\n",
    "import sqlite3\n",
    "import scipy.stats as stats\n",
    "from math import sqrt"
   ]
  },
  {
   "cell_type": "markdown",
   "metadata": {},
   "source": [
    "#### Reading relevant tables"
   ]
  },
  {
   "cell_type": "code",
   "execution_count": 2,
   "metadata": {},
   "outputs": [
    {
     "data": {
      "text/html": [
       "<div>\n",
       "<style scoped>\n",
       "    .dataframe tbody tr th:only-of-type {\n",
       "        vertical-align: middle;\n",
       "    }\n",
       "\n",
       "    .dataframe tbody tr th {\n",
       "        vertical-align: top;\n",
       "    }\n",
       "\n",
       "    .dataframe thead th {\n",
       "        text-align: right;\n",
       "    }\n",
       "</style>\n",
       "<table border=\"1\" class=\"dataframe\">\n",
       "  <thead>\n",
       "    <tr style=\"text-align: right;\">\n",
       "      <th></th>\n",
       "      <th>id</th>\n",
       "      <th>release_date</th>\n",
       "      <th>movie</th>\n",
       "      <th>production_budget</th>\n",
       "      <th>domestic_gross</th>\n",
       "      <th>worldwide_gross</th>\n",
       "    </tr>\n",
       "  </thead>\n",
       "  <tbody>\n",
       "    <tr>\n",
       "      <th>0</th>\n",
       "      <td>1</td>\n",
       "      <td>Dec 18, 2009</td>\n",
       "      <td>Avatar</td>\n",
       "      <td>$425,000,000</td>\n",
       "      <td>$760,507,625</td>\n",
       "      <td>$2,776,345,279</td>\n",
       "    </tr>\n",
       "    <tr>\n",
       "      <th>1</th>\n",
       "      <td>2</td>\n",
       "      <td>May 20, 2011</td>\n",
       "      <td>Pirates of the Caribbean: On Stranger Tides</td>\n",
       "      <td>$410,600,000</td>\n",
       "      <td>$241,063,875</td>\n",
       "      <td>$1,045,663,875</td>\n",
       "    </tr>\n",
       "    <tr>\n",
       "      <th>2</th>\n",
       "      <td>3</td>\n",
       "      <td>Jun 7, 2019</td>\n",
       "      <td>Dark Phoenix</td>\n",
       "      <td>$350,000,000</td>\n",
       "      <td>$42,762,350</td>\n",
       "      <td>$149,762,350</td>\n",
       "    </tr>\n",
       "    <tr>\n",
       "      <th>3</th>\n",
       "      <td>4</td>\n",
       "      <td>May 1, 2015</td>\n",
       "      <td>Avengers: Age of Ultron</td>\n",
       "      <td>$330,600,000</td>\n",
       "      <td>$459,005,868</td>\n",
       "      <td>$1,403,013,963</td>\n",
       "    </tr>\n",
       "    <tr>\n",
       "      <th>4</th>\n",
       "      <td>5</td>\n",
       "      <td>Dec 15, 2017</td>\n",
       "      <td>Star Wars Ep. VIII: The Last Jedi</td>\n",
       "      <td>$317,000,000</td>\n",
       "      <td>$620,181,382</td>\n",
       "      <td>$1,316,721,747</td>\n",
       "    </tr>\n",
       "    <tr>\n",
       "      <th>5</th>\n",
       "      <td>6</td>\n",
       "      <td>Dec 18, 2015</td>\n",
       "      <td>Star Wars Ep. VII: The Force Awakens</td>\n",
       "      <td>$306,000,000</td>\n",
       "      <td>$936,662,225</td>\n",
       "      <td>$2,053,311,220</td>\n",
       "    </tr>\n",
       "    <tr>\n",
       "      <th>6</th>\n",
       "      <td>7</td>\n",
       "      <td>Apr 27, 2018</td>\n",
       "      <td>Avengers: Infinity War</td>\n",
       "      <td>$300,000,000</td>\n",
       "      <td>$678,815,482</td>\n",
       "      <td>$2,048,134,200</td>\n",
       "    </tr>\n",
       "    <tr>\n",
       "      <th>7</th>\n",
       "      <td>8</td>\n",
       "      <td>May 24, 2007</td>\n",
       "      <td>Pirates of the Caribbean: At Worldâs End</td>\n",
       "      <td>$300,000,000</td>\n",
       "      <td>$309,420,425</td>\n",
       "      <td>$963,420,425</td>\n",
       "    </tr>\n",
       "    <tr>\n",
       "      <th>8</th>\n",
       "      <td>9</td>\n",
       "      <td>Nov 17, 2017</td>\n",
       "      <td>Justice League</td>\n",
       "      <td>$300,000,000</td>\n",
       "      <td>$229,024,295</td>\n",
       "      <td>$655,945,209</td>\n",
       "    </tr>\n",
       "    <tr>\n",
       "      <th>9</th>\n",
       "      <td>10</td>\n",
       "      <td>Nov 6, 2015</td>\n",
       "      <td>Spectre</td>\n",
       "      <td>$300,000,000</td>\n",
       "      <td>$200,074,175</td>\n",
       "      <td>$879,620,923</td>\n",
       "    </tr>\n",
       "  </tbody>\n",
       "</table>\n",
       "</div>"
      ],
      "text/plain": [
       "   id  release_date                                        movie  \\\n",
       "0   1  Dec 18, 2009                                       Avatar   \n",
       "1   2  May 20, 2011  Pirates of the Caribbean: On Stranger Tides   \n",
       "2   3   Jun 7, 2019                                 Dark Phoenix   \n",
       "3   4   May 1, 2015                      Avengers: Age of Ultron   \n",
       "4   5  Dec 15, 2017            Star Wars Ep. VIII: The Last Jedi   \n",
       "5   6  Dec 18, 2015         Star Wars Ep. VII: The Force Awakens   \n",
       "6   7  Apr 27, 2018                       Avengers: Infinity War   \n",
       "7   8  May 24, 2007   Pirates of the Caribbean: At Worldâs End   \n",
       "8   9  Nov 17, 2017                               Justice League   \n",
       "9  10   Nov 6, 2015                                      Spectre   \n",
       "\n",
       "  production_budget domestic_gross worldwide_gross  \n",
       "0      $425,000,000   $760,507,625  $2,776,345,279  \n",
       "1      $410,600,000   $241,063,875  $1,045,663,875  \n",
       "2      $350,000,000    $42,762,350    $149,762,350  \n",
       "3      $330,600,000   $459,005,868  $1,403,013,963  \n",
       "4      $317,000,000   $620,181,382  $1,316,721,747  \n",
       "5      $306,000,000   $936,662,225  $2,053,311,220  \n",
       "6      $300,000,000   $678,815,482  $2,048,134,200  \n",
       "7      $300,000,000   $309,420,425    $963,420,425  \n",
       "8      $300,000,000   $229,024,295    $655,945,209  \n",
       "9      $300,000,000   $200,074,175    $879,620,923  "
      ]
     },
     "execution_count": 2,
     "metadata": {},
     "output_type": "execute_result"
    }
   ],
   "source": [
    "# read the movie_budgets dataframe and assign it to the variable tn_budgets for future use\n",
    "tn_budgets = pd.read_csv(\"../../data/zippedData/tn.movie_budgets.csv.gz\")\n",
    "tn_budgets.head(10)\n",
    "\n"
   ]
  },
  {
   "cell_type": "markdown",
   "metadata": {},
   "source": [
    "## Cleaning Data of unwanted characters and Data types"
   ]
  },
  {
   "cell_type": "code",
   "execution_count": 3,
   "metadata": {},
   "outputs": [
    {
     "data": {
      "text/html": [
       "<div>\n",
       "<style scoped>\n",
       "    .dataframe tbody tr th:only-of-type {\n",
       "        vertical-align: middle;\n",
       "    }\n",
       "\n",
       "    .dataframe tbody tr th {\n",
       "        vertical-align: top;\n",
       "    }\n",
       "\n",
       "    .dataframe thead th {\n",
       "        text-align: right;\n",
       "    }\n",
       "</style>\n",
       "<table border=\"1\" class=\"dataframe\">\n",
       "  <thead>\n",
       "    <tr style=\"text-align: right;\">\n",
       "      <th></th>\n",
       "      <th>id</th>\n",
       "      <th>production_budget</th>\n",
       "      <th>domestic_gross</th>\n",
       "      <th>worldwide_gross</th>\n",
       "      <th>Net Revenue</th>\n",
       "    </tr>\n",
       "  </thead>\n",
       "  <tbody>\n",
       "    <tr>\n",
       "      <th>count</th>\n",
       "      <td>5782.000000</td>\n",
       "      <td>5.782000e+03</td>\n",
       "      <td>5.782000e+03</td>\n",
       "      <td>5.782000e+03</td>\n",
       "      <td>5.782000e+03</td>\n",
       "    </tr>\n",
       "    <tr>\n",
       "      <th>mean</th>\n",
       "      <td>50.372363</td>\n",
       "      <td>3.158776e+07</td>\n",
       "      <td>4.187333e+07</td>\n",
       "      <td>9.148746e+07</td>\n",
       "      <td>5.989970e+07</td>\n",
       "    </tr>\n",
       "    <tr>\n",
       "      <th>std</th>\n",
       "      <td>28.821076</td>\n",
       "      <td>4.181208e+07</td>\n",
       "      <td>6.824060e+07</td>\n",
       "      <td>1.747200e+08</td>\n",
       "      <td>1.460889e+08</td>\n",
       "    </tr>\n",
       "    <tr>\n",
       "      <th>min</th>\n",
       "      <td>1.000000</td>\n",
       "      <td>1.100000e+03</td>\n",
       "      <td>0.000000e+00</td>\n",
       "      <td>0.000000e+00</td>\n",
       "      <td>-2.002376e+08</td>\n",
       "    </tr>\n",
       "    <tr>\n",
       "      <th>25%</th>\n",
       "      <td>25.000000</td>\n",
       "      <td>5.000000e+06</td>\n",
       "      <td>1.429534e+06</td>\n",
       "      <td>4.125415e+06</td>\n",
       "      <td>-2.189071e+06</td>\n",
       "    </tr>\n",
       "    <tr>\n",
       "      <th>50%</th>\n",
       "      <td>50.000000</td>\n",
       "      <td>1.700000e+07</td>\n",
       "      <td>1.722594e+07</td>\n",
       "      <td>2.798445e+07</td>\n",
       "      <td>8.550286e+06</td>\n",
       "    </tr>\n",
       "    <tr>\n",
       "      <th>75%</th>\n",
       "      <td>75.000000</td>\n",
       "      <td>4.000000e+07</td>\n",
       "      <td>5.234866e+07</td>\n",
       "      <td>9.764584e+07</td>\n",
       "      <td>6.096850e+07</td>\n",
       "    </tr>\n",
       "    <tr>\n",
       "      <th>max</th>\n",
       "      <td>100.000000</td>\n",
       "      <td>4.250000e+08</td>\n",
       "      <td>9.366622e+08</td>\n",
       "      <td>2.776345e+09</td>\n",
       "      <td>2.351345e+09</td>\n",
       "    </tr>\n",
       "  </tbody>\n",
       "</table>\n",
       "</div>"
      ],
      "text/plain": [
       "                id  production_budget  domestic_gross  worldwide_gross  \\\n",
       "count  5782.000000       5.782000e+03    5.782000e+03     5.782000e+03   \n",
       "mean     50.372363       3.158776e+07    4.187333e+07     9.148746e+07   \n",
       "std      28.821076       4.181208e+07    6.824060e+07     1.747200e+08   \n",
       "min       1.000000       1.100000e+03    0.000000e+00     0.000000e+00   \n",
       "25%      25.000000       5.000000e+06    1.429534e+06     4.125415e+06   \n",
       "50%      50.000000       1.700000e+07    1.722594e+07     2.798445e+07   \n",
       "75%      75.000000       4.000000e+07    5.234866e+07     9.764584e+07   \n",
       "max     100.000000       4.250000e+08    9.366622e+08     2.776345e+09   \n",
       "\n",
       "        Net Revenue  \n",
       "count  5.782000e+03  \n",
       "mean   5.989970e+07  \n",
       "std    1.460889e+08  \n",
       "min   -2.002376e+08  \n",
       "25%   -2.189071e+06  \n",
       "50%    8.550286e+06  \n",
       "75%    6.096850e+07  \n",
       "max    2.351345e+09  "
      ]
     },
     "execution_count": 3,
     "metadata": {},
     "output_type": "execute_result"
    }
   ],
   "source": [
    "# change release_date column from str to datetime \n",
    "tn_budgets['release_date'] = pd.to_datetime(tn_budgets['release_date'])\n",
    "\n",
    "# cleaning the production_budget column of dollar signs and commas and changing data type from string to int\n",
    "tn_budgets['production_budget'] = tn_budgets['production_budget'].str.replace('$','')\n",
    "tn_budgets['production_budget'] = tn_budgets['production_budget'].str.replace(',','')\n",
    "tn_budgets = tn_budgets.astype({'production_budget': 'int64'})\n",
    "\n",
    "# cleaning the domestic_gross column of dollar signs and commas and changing data type from string to int\n",
    "tn_budgets['domestic_gross'] = tn_budgets['domestic_gross'].str.replace('$','')\n",
    "tn_budgets['domestic_gross'] = tn_budgets['domestic_gross'].str.replace(',','')\n",
    "tn_budgets = tn_budgets.astype({'domestic_gross': 'int64'})\n",
    "\n",
    "# cleaning the worldwide_gross column of dollar signs and commas and changing data type from string to int\n",
    "tn_budgets['worldwide_gross'] = tn_budgets['worldwide_gross'].str.replace('$','')\n",
    "tn_budgets['worldwide_gross'] = tn_budgets['worldwide_gross'].str.replace(',','')\n",
    "tn_budgets = tn_budgets.astype({'worldwide_gross': 'int64'})\n",
    "\n",
    "# Find the net revenue and assigning the values to the new column named Net Revenue \n",
    "tn_budgets['Net Revenue'] = tn_budgets['worldwide_gross'] - tn_budgets['production_budget']\n",
    "tn_budgets.describe()"
   ]
  },
  {
   "cell_type": "markdown",
   "metadata": {},
   "source": [
    "# Hypothesis"
   ]
  },
  {
   "cell_type": "markdown",
   "metadata": {},
   "source": [
    "### Alternative hypothesis is that movies released in the summer season will generate a higher net revenue than the population average\n",
    "#### $H_a$ = 𝜇<𝑀\n",
    "_______________________________________________________________________________\n",
    "\n",
    "### Null hypothesis is that movies released in the summer season will not generate a higher net revenue than population average\n",
    "#### $H_0 $ = 𝜇≥𝑀"
   ]
  },
  {
   "cell_type": "code",
   "execution_count": 4,
   "metadata": {},
   "outputs": [],
   "source": [
    "# Taking month out of release date and creating new column with the values\n",
    "tn_budgets[\"release_month\"] = tn_budgets[\"release_date\"].dt.month \n",
    "\n",
    "# Creating a variable that groups the release_month and Net Revenue columns and calculated the mean of each release month\n",
    "by_month = tn_budgets.groupby(\"release_month\")[\"Net Revenue\"].mean()\n"
   ]
  },
  {
   "cell_type": "markdown",
   "metadata": {},
   "source": [
    "# Map average gross revenue by month"
   ]
  },
  {
   "cell_type": "code",
   "execution_count": 10,
   "metadata": {},
   "outputs": [
    {
     "data": {
      "text/plain": [
       "<AxesSubplot:title={'center':'AVG Net Per Month'}, xlabel='Release Month', ylabel='Mean Net'>"
      ]
     },
     "execution_count": 10,
     "metadata": {},
     "output_type": "execute_result"
    },
    {
     "data": {
      "image/png": "[encoded data removed]",
      "text/plain": [
       "<Figure size 432x360 with 1 Axes>"
      ]
     },
     "metadata": {
      "needs_background": "light"
     },
     "output_type": "display_data"
    }
   ],
   "source": [
    "# Plotting the data from by_month into a bar graph\n",
    "by_month.plot(kind='bar', title='AVG Net Per Month', ylabel='Mean Net',\n",
    "         xlabel='Release Month', figsize=(6, 5))"
   ]
  },
  {
   "cell_type": "markdown",
   "metadata": {},
   "source": [
    "# From this chart we notice that movies released in summer generate a higher Net Revenue  "
   ]
  },
  {
   "cell_type": "code",
   "execution_count": 11,
   "metadata": {},
   "outputs": [],
   "source": [
    "# Create dictionary to assign month to season to properly evaluate the data\n",
    "season_month = {\n",
    "            12:'Winter', 1:'Winter', 2:'Winter',\n",
    "            3:'Spring', 4:'Spring', 5:'Spring',\n",
    "            6:'Summer', 7:'Summer', 8:'Summer',\n",
    "            9:'Fall', 10:'Fall', 11:'Fall'}\n",
    "\n",
    "# map through data and create new column with movie release season    \n",
    "tn_budgets['release_season'] = tn_budgets[\"release_month\"].map(season_month)\n",
    "tn_budgets.sort_values(by=[\"release_season\"])\n",
    "by_season = tn_budgets.groupby(\"release_season\")[\"Net Revenue\"].mean().reset_index()"
   ]
  },
  {
   "cell_type": "code",
   "execution_count": 12,
   "metadata": {},
   "outputs": [
    {
     "data": {
      "text/plain": [
       "release_season\n",
       "Fall      4.780363e+07\n",
       "Spring    6.512883e+07\n",
       "Summer    7.667647e+07\n",
       "Winter    5.186333e+07\n",
       "Name: Net Revenue, dtype: float64"
      ]
     },
     "execution_count": 12,
     "metadata": {},
     "output_type": "execute_result"
    }
   ],
   "source": [
    "season_mean = tn_budgets.groupby(\"release_season\")[\"Net Revenue\"].mean()\n",
    "season_mean\n"
   ]
  },
  {
   "cell_type": "code",
   "execution_count": 13,
   "metadata": {},
   "outputs": [
    {
     "data": {
      "text/plain": [
       "release_season\n",
       "Fall      1552\n",
       "Spring    1331\n",
       "Summer    1415\n",
       "Winter    1484\n",
       "Name: Net Revenue, dtype: int64"
      ]
     },
     "execution_count": 13,
     "metadata": {},
     "output_type": "execute_result"
    }
   ],
   "source": [
    "season_count = tn_budgets.groupby(\"release_season\")[\"Net Revenue\"].count()\n",
    "season_count"
   ]
  },
  {
   "cell_type": "code",
   "execution_count": 14,
   "metadata": {},
   "outputs": [
    {
     "data": {
      "text/plain": [
       "4.319856599808175"
      ]
     },
     "execution_count": 14,
     "metadata": {},
     "output_type": "execute_result"
    }
   ],
   "source": [
    "import scipy.stats as stats\n",
    "from math import sqrt\n",
    "x_bar = 76676470 # sample mean of summer \n",
    "n = 1415 # number of all inputs\n",
    "sigma = 146088881 # sd of all inputs\n",
    "mu = 59899703 # all inputs mean \n",
    "\n",
    "z_value = (x_bar - mu)/(sigma/sqrt(n))\n",
    "z_value"
   ]
  },
  {
   "cell_type": "code",
   "execution_count": 15,
   "metadata": {},
   "outputs": [
    {
     "name": "stdout",
     "output_type": "stream",
     "text": [
      "p_value = 0.000007806531178731228\n"
     ]
    },
    {
     "data": {
      "text/plain": [
       "7.806531178731228e-06"
      ]
     },
     "execution_count": 15,
     "metadata": {},
     "output_type": "execute_result"
    }
   ],
   "source": [
    "p_value = stats.norm.sf(z_value)\n",
    "print('p_value = 0.000007806531178731228')\n",
    "p_value"
   ]
  },
  {
   "cell_type": "code",
   "execution_count": 16,
   "metadata": {},
   "outputs": [
    {
     "data": {
      "text/plain": [
       "Text(0.5, 0, 'Release season')"
      ]
     },
     "execution_count": 16,
     "metadata": {},
     "output_type": "execute_result"
    },
    {
     "data": {
      "image/png": "[encoded data removed]",
      "text/plain": [
       "<Figure size 432x288 with 1 Axes>"
      ]
     },
     "metadata": {
      "needs_background": "light"
     },
     "output_type": "display_data"
    }
   ],
   "source": [
    "# Plot out the by_season variable that allows us to evaluate average net revenue by season\n",
    "ax = sns.barplot(data=by_season, x='release_season', y='Net Revenue', color='#990000', order=['Winter', 'Spring', 'Summer', 'Fall'])\n",
    "ax.set_xticklabels(ax.get_xticklabels());\n",
    "ax.set_title('Average Net Revenue by Release Season', fontsize=12, weight='bold')\n",
    "ax.set_ylabel('Average Net Revenue (ten millions)', weight='bold')\n",
    "ax.set_xlabel('Release season', weight='bold')\n",
    "\n",
    "\n"
   ]
  },
  {
   "cell_type": "markdown",
   "metadata": {},
   "source": [
    "# Conclusion\n",
    "\n",
    "### alpha = .05\n",
    "\n",
    "### z score = 4.319\n",
    "\n",
    "### p score = 0.000007806531178731228\n",
    "\n",
    "## After running the z score and p score, we can reject the null hypothesis with 99.9 percent confidence"
   ]
  }
 ],
 "metadata": {
  "kernelspec": {
   "display_name": "Python 3",
   "language": "python",
   "name": "python3"
  },
  "language_info": {
   "codemirror_mode": {
    "name": "ipython",
    "version": 3
   },
   "file_extension": ".py",
   "mimetype": "text/x-python",
   "name": "python",
   "nbconvert_exporter": "python",
   "pygments_lexer": "ipython3",
   "version": "3.8.5"
  }
 },
 "nbformat": 4,
 "nbformat_minor": 4
}
